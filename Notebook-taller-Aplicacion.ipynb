{
 "cells": [
  {
   "cell_type": "markdown",
   "metadata": {},
   "source": [
    "# Actividad Evaluada Taller de Series de Tiempo\n",
    "\n",
    "NOMBRE: \n",
    "\n",
    "Correo electrónico:\n",
    "\n"
   ]
  },
  {
   "cell_type": "markdown",
   "metadata": {},
   "source": [
    "# Instrucciones\n",
    "\n",
    "- Desarrolle en un notebook los siguientes análisis, este puede ser de **manera individual o en grupo de hasta 3 personas**.\n",
    "- Realice una copia de este acrvivo, cambiele el nombre y edítela directamente.\n",
    "- Apóyese en el resto de material disponible, si tiene dudas puede realizarlas al correo  moyarzunw@udd.cl con el asunto \"Dudas taller series de tiempo IDS\"\n",
    "- La **entrega** es hasta el día jueves 16 DIC en el correo: moyarzunw@udd.cl, \n",
    "    -  Enviar por correo con el asunto: Tarea taller serie de tiempo IDS,  nombre apellido\n",
    "    -  El notebook debe tener el nombre: Notebook- taller-alicacion-nombre-apellido.ipnyb, \n",
    "    -  Tambien puede enviarme un link en github si está publico o me concede acceso.\n",
    "    -  En caso que necesite una extensión, hasta el sabado 18 23.59 hrs, debe avisarme los intgrantes y una justificación por correo.\n",
    "\n",
    "# Evaluación:\n",
    "\n",
    "El taller será evaluado con nota 1 a 7, en base al notebook enviado. La pauta de evaluación es la siguiente:\n",
    "\n",
    "- Punto base (1pt)\n",
    "- Entrega a tiempo y ordenada (1pt)\n",
    "- Entrega completa de la actividad desarrollada, independiente de los resultadps (2pts)\n",
    "- Resultados correctos (2pts)\n",
    "- Integridad del codigo: Se refiere a que el codigo se pueda ejecutar sin intervencion del docente (1pts)\n",
    "\n",
    "# Generalidades\n",
    "\n",
    "**Resultado de aprendizaje esperado:**\n",
    "\n",
    "1. Identificar datos de series temporales y sus particularidades, para entender posibles aplicaciones profesionales.\n",
    "\n",
    "2. Describir exploratoriamente una serie temporal, para extraer características claves del fenómeno que permita su modelamiento.\n",
    "\n",
    "3. Modelar series temporales, evaluando alternativas.\n",
    "\n",
    "\n",
    "**Bibliografía recomendada:**\n",
    "\n",
    "Stock & Watson, C.14 [link](https://www.dropbox.com/s/d09qcat340jy5q2/stock%20y%20watson%20-%20Introduccion%20a%20la%20Econometria.pdf?dl=0) ; Wooldridge, c.12 [link](https://www.dropbox.com/s/wrh0tuna27qp747/Wooldridge__Introductory_Econometrics_2nd_Ed_Solutions.pdf?dl=0), Gujarati, c.12  [link](https://www.dropbox.com/s/rrvth8vsa1c5gts/Gujarati-cap%2012.pdf?dl=0)\n",
    "\n",
    "**Material de apoyo***\n",
    "\n",
    "El taller cuenta con un repositorio  [https://github.com/melanieoyarzun/taller_IDS2021](https://github.com/melanieoyarzun/taller_IDS2021) en el cual está dispoinible todo el material.\n",
    "\n"
   ]
  },
  {
   "cell_type": "code",
   "execution_count": 1,
   "metadata": {},
   "outputs": [
    {
     "data": {
      "text/plain": [
       "<Figure size 1000x600 with 0 Axes>"
      ]
     },
     "execution_count": 1,
     "metadata": {},
     "output_type": "execute_result"
    },
    {
     "data": {
      "text/plain": [
       "<Figure size 1000x600 with 0 Axes>"
      ]
     },
     "metadata": {},
     "output_type": "display_data"
    }
   ],
   "source": [
    "# Paquetes y settings recomendados, pero puedes cambiar lo que quieras\n",
    "\n",
    "from dateutil.parser import parse \n",
    "import matplotlib as mpl\n",
    "import matplotlib.pyplot as plt\n",
    "import seaborn as sns\n",
    "import numpy as np\n",
    "import pandas as pd\n",
    "#import watermark\n",
    "\n",
    "\n",
    "import sklearn\n",
    "from sklearn.linear_model import LinearRegression\n",
    "\n",
    "import scipy\n",
    "from scipy import stats\n",
    "\n",
    "#%matplotlib inline\n",
    "#%load_ext watermark\n",
    "\n",
    "# setting de graficos\n",
    "\n",
    "plt.figure(figsize=(5,3), dpi= 200, facecolor='w', edgecolor='k')\n",
    "\n"
   ]
  },
  {
   "cell_type": "code",
   "execution_count": 2,
   "metadata": {},
   "outputs": [
    {
     "name": "stdout",
     "output_type": "stream",
     "text": [
      "Python implementation: CPython\n",
      "Python version       : 3.9.7\n",
      "IPython version      : 7.29.0\n",
      "\n",
      "Compiler    : Clang 10.0.0 \n",
      "OS          : Darwin\n",
      "Release     : 20.6.0\n",
      "Machine     : x86_64\n",
      "Processor   : i386\n",
      "CPU cores   : 4\n",
      "Architecture: 64bit\n",
      "\n",
      "Git hash: 236f2a65a25f3435e36c36c6f1b5909c14abea8e\n",
      "\n",
      "seaborn   : 0.11.2\n",
      "numpy     : 1.20.3\n",
      "pandas    : 1.3.4\n",
      "matplotlib: 3.4.3\n",
      "sys       : 3.9.7 (default, Sep 16 2021, 08:50:36) \n",
      "[Clang 10.0.0 ]\n",
      "sklearn   : 0.24.2\n",
      "scipy     : 1.7.1\n",
      "watermark : 2.2.0\n",
      "\n"
     ]
    }
   ],
   "source": [
    "%watermark -n -v -m -g -iv"
   ]
  },
  {
   "cell_type": "markdown",
   "metadata": {},
   "source": [
    "# Actividad Bloque 1:\n",
    "\n",
    "1. Siga este ejemplo practico de importar datos desde la API del Banco Mundial y preparar la base para su análisis de series de tiempo.\n",
    "2. Importe usted la serie de GDP total Y Percapita para otro país serie desde la API del Banco mundial, muestre sus principales características y realice un grafico. \n",
    "3. Obtenga las primeras diferencias y compare, ¿pareciera haber tendencias?\n"
   ]
  },
  {
   "cell_type": "markdown",
   "metadata": {},
   "source": [
    "# Actividad Bloque 2: \n",
    "\n",
    "Considere el mecanismo para extraer datos de la sección anterior. Elija un país a analizar y realice las siguientes operaciones.\n",
    "\n",
    "1. Calule $y_t=ln(GDP_t)$, que es el logaritmo del PIB real y $\\Delta y_t$ como la tasa de crecimiento anual del PIB para el periodo. \n",
    "2. Estime la media de $\\Delta y_t$\n",
    "3. Estme la desviación estandar de $\\Delta y_t$\n",
    "4. Estime las cuatro primeras autocorrelaciones de $\\Delta y_t$, ¿cuales son las unidades de medidas de estas autocorrelaciones?\n",
    "5. Estime un modelo AR(1) para $\\Delta y_t$. ¿Cual es el coeficiente para el vector autorregresivo? ¿Es estadisticamente significativo? Construya un intervalo de confianza para el estimador poblacional.\n",
    "6. Estime un modelo AR(2) para $\\Delta y_t$. ¿Cual es el coeficiente para el vector autorregresivo? ¿Es estadisticamente significativo? Construya un intervalo de confianza para el estimador poblacional.\n",
    "7. Estime un modelo AR(3) y AR(4) para $\\Delta y_t$. Utilice el criterio BIC y AIC para elegir el numero de rezagos.\n",
    "8. Utilice un estadístico de Dickey- FUlller aumentado para contrastar la presencia de raiz unitaria. Como alternativa, suponga que Y es estacionaria al rededor de una detendecia determinística.\n",
    "9.  Identifique la tendencia y posible estacionalidad y haga la descomposción grafica.\n",
    "10. ¿Podría existir un quiebre estructural en 2009? ¿Cómo lo probaría?\n"
   ]
  }
 ],
 "metadata": {
  "interpreter": {
   "hash": "aee8b7b246df8f9039afb4144a1f6fd8d2ca17a180786b69acc140d282b71a49"
  },
  "kernelspec": {
   "display_name": "Python 3.9.9 64-bit",
   "language": "python",
   "name": "python3"
  },
  "language_info": {
   "codemirror_mode": {
    "name": "ipython",
    "version": 3
   },
   "file_extension": ".py",
   "mimetype": "text/x-python",
   "name": "python",
   "nbconvert_exporter": "python",
   "pygments_lexer": "ipython3",
   "version": "3.9.1"
  },
  "orig_nbformat": 4
 },
 "nbformat": 4,
 "nbformat_minor": 2
}
